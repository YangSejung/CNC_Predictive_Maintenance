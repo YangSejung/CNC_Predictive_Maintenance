{
 "cells": [
  {
   "cell_type": "markdown",
   "metadata": {},
   "source": [
    "# 0. 코드 설명"
   ]
  },
  {
   "cell_type": "markdown",
   "metadata": {},
   "source": [
    "# 1. 라이브러리 불러오기"
   ]
  },
  {
   "cell_type": "code",
   "execution_count": 8,
   "metadata": {},
   "outputs": [],
   "source": [
    "import pandas as pd\n",
    "import numpy as np\n",
    "from sklearn.model_selection import train_test_split\n",
    "from sklearn.tree import DecisionTreeClassifier\n",
    "from sklearn.ensemble import RandomForestClassifier\n",
    "from sklearn.model_selection import GridSearchCV\n",
    "from sklearn.metrics import accuracy_score\n",
    "from sklearn.preprocessing import StandardScaler, LabelEncoder\n",
    "import os"
   ]
  },
  {
   "cell_type": "markdown",
   "metadata": {},
   "source": [
    "# 2. 데이터 불러오기"
   ]
  },
  {
   "cell_type": "code",
   "execution_count": 6,
   "metadata": {},
   "outputs": [
    {
     "name": "stdout",
     "output_type": "stream",
     "text": [
      "(32048, 54)\n"
     ]
    },
    {
     "data": {
      "text/html": [
       "<div>\n",
       "<style scoped>\n",
       "    .dataframe tbody tr th:only-of-type {\n",
       "        vertical-align: middle;\n",
       "    }\n",
       "\n",
       "    .dataframe tbody tr th {\n",
       "        vertical-align: top;\n",
       "    }\n",
       "\n",
       "    .dataframe thead th {\n",
       "        text-align: right;\n",
       "    }\n",
       "</style>\n",
       "<table border=\"1\" class=\"dataframe\">\n",
       "  <thead>\n",
       "    <tr style=\"text-align: right;\">\n",
       "      <th></th>\n",
       "      <th>X_ActualPosition</th>\n",
       "      <th>X_ActualVelocity</th>\n",
       "      <th>X_ActualAcceleration</th>\n",
       "      <th>X_SetPosition</th>\n",
       "      <th>X_SetVelocity</th>\n",
       "      <th>X_SetAcceleration</th>\n",
       "      <th>X_CurrentFeedback</th>\n",
       "      <th>X_DCBusVoltage</th>\n",
       "      <th>X_OutputCurrent</th>\n",
       "      <th>X_OutputVoltage</th>\n",
       "      <th>...</th>\n",
       "      <th>M_CURRENT_PROGRAM_NUMBER</th>\n",
       "      <th>M_sequence_number</th>\n",
       "      <th>M_CURRENT_FEEDRATE</th>\n",
       "      <th>Machining_Process</th>\n",
       "      <th>exp_num</th>\n",
       "      <th>feedrate</th>\n",
       "      <th>clamp_pressure</th>\n",
       "      <th>tool_condition</th>\n",
       "      <th>machining_finalized</th>\n",
       "      <th>passed_visual_inspection</th>\n",
       "    </tr>\n",
       "  </thead>\n",
       "  <tbody>\n",
       "    <tr>\n",
       "      <th>0</th>\n",
       "      <td>202.0</td>\n",
       "      <td>4.0</td>\n",
       "      <td>4.00</td>\n",
       "      <td>202.0</td>\n",
       "      <td>4.0</td>\n",
       "      <td>4.000000</td>\n",
       "      <td>0.18</td>\n",
       "      <td>0.0207</td>\n",
       "      <td>329</td>\n",
       "      <td>2.77</td>\n",
       "      <td>...</td>\n",
       "      <td>1</td>\n",
       "      <td>0</td>\n",
       "      <td>50</td>\n",
       "      <td>Prep</td>\n",
       "      <td>1</td>\n",
       "      <td>6</td>\n",
       "      <td>4.0</td>\n",
       "      <td>unworn</td>\n",
       "      <td>yes</td>\n",
       "      <td>yes</td>\n",
       "    </tr>\n",
       "    <tr>\n",
       "      <th>1</th>\n",
       "      <td>202.0</td>\n",
       "      <td>-6.8</td>\n",
       "      <td>-346.00</td>\n",
       "      <td>202.0</td>\n",
       "      <td>-9.6</td>\n",
       "      <td>-354.000000</td>\n",
       "      <td>-10.90</td>\n",
       "      <td>0.1860</td>\n",
       "      <td>328</td>\n",
       "      <td>23.30</td>\n",
       "      <td>...</td>\n",
       "      <td>1</td>\n",
       "      <td>4</td>\n",
       "      <td>50</td>\n",
       "      <td>Prep</td>\n",
       "      <td>1</td>\n",
       "      <td>6</td>\n",
       "      <td>4.0</td>\n",
       "      <td>unworn</td>\n",
       "      <td>yes</td>\n",
       "      <td>yes</td>\n",
       "    </tr>\n",
       "    <tr>\n",
       "      <th>2</th>\n",
       "      <td>200.0</td>\n",
       "      <td>-13.8</td>\n",
       "      <td>-2.25</td>\n",
       "      <td>200.0</td>\n",
       "      <td>-13.9</td>\n",
       "      <td>3.999905</td>\n",
       "      <td>-8.59</td>\n",
       "      <td>0.1400</td>\n",
       "      <td>328</td>\n",
       "      <td>30.60</td>\n",
       "      <td>...</td>\n",
       "      <td>1</td>\n",
       "      <td>7</td>\n",
       "      <td>50</td>\n",
       "      <td>Prep</td>\n",
       "      <td>1</td>\n",
       "      <td>6</td>\n",
       "      <td>4.0</td>\n",
       "      <td>unworn</td>\n",
       "      <td>yes</td>\n",
       "      <td>yes</td>\n",
       "    </tr>\n",
       "    <tr>\n",
       "      <th>3</th>\n",
       "      <td>198.0</td>\n",
       "      <td>-14.0</td>\n",
       "      <td>4.00</td>\n",
       "      <td>198.0</td>\n",
       "      <td>-13.9</td>\n",
       "      <td>3.999905</td>\n",
       "      <td>-6.11</td>\n",
       "      <td>0.1300</td>\n",
       "      <td>327</td>\n",
       "      <td>30.30</td>\n",
       "      <td>...</td>\n",
       "      <td>1</td>\n",
       "      <td>7</td>\n",
       "      <td>50</td>\n",
       "      <td>Prep</td>\n",
       "      <td>1</td>\n",
       "      <td>6</td>\n",
       "      <td>4.0</td>\n",
       "      <td>unworn</td>\n",
       "      <td>yes</td>\n",
       "      <td>yes</td>\n",
       "    </tr>\n",
       "    <tr>\n",
       "      <th>4</th>\n",
       "      <td>197.0</td>\n",
       "      <td>-13.9</td>\n",
       "      <td>-14.80</td>\n",
       "      <td>196.0</td>\n",
       "      <td>-13.9</td>\n",
       "      <td>4.000095</td>\n",
       "      <td>-5.70</td>\n",
       "      <td>0.1140</td>\n",
       "      <td>328</td>\n",
       "      <td>30.50</td>\n",
       "      <td>...</td>\n",
       "      <td>1</td>\n",
       "      <td>7</td>\n",
       "      <td>50</td>\n",
       "      <td>Prep</td>\n",
       "      <td>1</td>\n",
       "      <td>6</td>\n",
       "      <td>4.0</td>\n",
       "      <td>unworn</td>\n",
       "      <td>yes</td>\n",
       "      <td>yes</td>\n",
       "    </tr>\n",
       "  </tbody>\n",
       "</table>\n",
       "<p>5 rows × 54 columns</p>\n",
       "</div>"
      ],
      "text/plain": [
       "   X_ActualPosition  X_ActualVelocity  X_ActualAcceleration  X_SetPosition  \\\n",
       "0             202.0               4.0                  4.00          202.0   \n",
       "1             202.0              -6.8               -346.00          202.0   \n",
       "2             200.0             -13.8                 -2.25          200.0   \n",
       "3             198.0             -14.0                  4.00          198.0   \n",
       "4             197.0             -13.9                -14.80          196.0   \n",
       "\n",
       "   X_SetVelocity  X_SetAcceleration  X_CurrentFeedback  X_DCBusVoltage  \\\n",
       "0            4.0           4.000000               0.18          0.0207   \n",
       "1           -9.6        -354.000000             -10.90          0.1860   \n",
       "2          -13.9           3.999905              -8.59          0.1400   \n",
       "3          -13.9           3.999905              -6.11          0.1300   \n",
       "4          -13.9           4.000095              -5.70          0.1140   \n",
       "\n",
       "   X_OutputCurrent  X_OutputVoltage            ...             \\\n",
       "0              329             2.77            ...              \n",
       "1              328            23.30            ...              \n",
       "2              328            30.60            ...              \n",
       "3              327            30.30            ...              \n",
       "4              328            30.50            ...              \n",
       "\n",
       "   M_CURRENT_PROGRAM_NUMBER  M_sequence_number  M_CURRENT_FEEDRATE  \\\n",
       "0                         1                  0                  50   \n",
       "1                         1                  4                  50   \n",
       "2                         1                  7                  50   \n",
       "3                         1                  7                  50   \n",
       "4                         1                  7                  50   \n",
       "\n",
       "   Machining_Process  exp_num  feedrate  clamp_pressure  tool_condition  \\\n",
       "0               Prep        1         6             4.0          unworn   \n",
       "1               Prep        1         6             4.0          unworn   \n",
       "2               Prep        1         6             4.0          unworn   \n",
       "3               Prep        1         6             4.0          unworn   \n",
       "4               Prep        1         6             4.0          unworn   \n",
       "\n",
       "   machining_finalized  passed_visual_inspection  \n",
       "0                  yes                       yes  \n",
       "1                  yes                       yes  \n",
       "2                  yes                       yes  \n",
       "3                  yes                       yes  \n",
       "4                  yes                       yes  \n",
       "\n",
       "[5 rows x 54 columns]"
      ]
     },
     "execution_count": 6,
     "metadata": {},
     "output_type": "execute_result"
    }
   ],
   "source": [
    "df = pd.read_csv(\"../../data/processed/prepared_data.csv\")\n",
    "print(df.shape)\n",
    "df.head()"
   ]
  },
  {
   "cell_type": "markdown",
   "metadata": {},
   "source": [
    "# 3. Feature Engineering"
   ]
  },
  {
   "cell_type": "code",
   "execution_count": 9,
   "metadata": {},
   "outputs": [
    {
     "data": {
      "text/html": [
       "<div>\n",
       "<style scoped>\n",
       "    .dataframe tbody tr th:only-of-type {\n",
       "        vertical-align: middle;\n",
       "    }\n",
       "\n",
       "    .dataframe tbody tr th {\n",
       "        vertical-align: top;\n",
       "    }\n",
       "\n",
       "    .dataframe thead th {\n",
       "        text-align: right;\n",
       "    }\n",
       "</style>\n",
       "<table border=\"1\" class=\"dataframe\">\n",
       "  <thead>\n",
       "    <tr style=\"text-align: right;\">\n",
       "      <th></th>\n",
       "      <th>X_ActualPosition</th>\n",
       "      <th>X_ActualVelocity</th>\n",
       "      <th>X_ActualAcceleration</th>\n",
       "      <th>X_SetPosition</th>\n",
       "      <th>X_SetVelocity</th>\n",
       "      <th>X_SetAcceleration</th>\n",
       "      <th>X_CurrentFeedback</th>\n",
       "      <th>X_DCBusVoltage</th>\n",
       "      <th>X_OutputCurrent</th>\n",
       "      <th>X_OutputVoltage</th>\n",
       "      <th>...</th>\n",
       "      <th>S_SystemInertia</th>\n",
       "      <th>M_CURRENT_PROGRAM_NUMBER</th>\n",
       "      <th>M_sequence_number</th>\n",
       "      <th>M_CURRENT_FEEDRATE</th>\n",
       "      <th>Machining_Process</th>\n",
       "      <th>feedrate</th>\n",
       "      <th>clamp_pressure</th>\n",
       "      <th>tool_condition</th>\n",
       "      <th>machining_finalized</th>\n",
       "      <th>passed_visual_inspection</th>\n",
       "    </tr>\n",
       "  </thead>\n",
       "  <tbody>\n",
       "    <tr>\n",
       "      <th>0</th>\n",
       "      <td>202.0</td>\n",
       "      <td>4.0</td>\n",
       "      <td>4.00</td>\n",
       "      <td>202.0</td>\n",
       "      <td>4.0</td>\n",
       "      <td>4.000000</td>\n",
       "      <td>0.18</td>\n",
       "      <td>0.0207</td>\n",
       "      <td>329</td>\n",
       "      <td>2.77</td>\n",
       "      <td>...</td>\n",
       "      <td>16.0</td>\n",
       "      <td>1</td>\n",
       "      <td>0</td>\n",
       "      <td>50</td>\n",
       "      <td>7</td>\n",
       "      <td>6</td>\n",
       "      <td>4.0</td>\n",
       "      <td>0</td>\n",
       "      <td>1</td>\n",
       "      <td>1</td>\n",
       "    </tr>\n",
       "    <tr>\n",
       "      <th>1</th>\n",
       "      <td>202.0</td>\n",
       "      <td>-6.8</td>\n",
       "      <td>-346.00</td>\n",
       "      <td>202.0</td>\n",
       "      <td>-9.6</td>\n",
       "      <td>-354.000000</td>\n",
       "      <td>-10.90</td>\n",
       "      <td>0.1860</td>\n",
       "      <td>328</td>\n",
       "      <td>23.30</td>\n",
       "      <td>...</td>\n",
       "      <td>16.0</td>\n",
       "      <td>1</td>\n",
       "      <td>4</td>\n",
       "      <td>50</td>\n",
       "      <td>7</td>\n",
       "      <td>6</td>\n",
       "      <td>4.0</td>\n",
       "      <td>0</td>\n",
       "      <td>1</td>\n",
       "      <td>1</td>\n",
       "    </tr>\n",
       "    <tr>\n",
       "      <th>2</th>\n",
       "      <td>200.0</td>\n",
       "      <td>-13.8</td>\n",
       "      <td>-2.25</td>\n",
       "      <td>200.0</td>\n",
       "      <td>-13.9</td>\n",
       "      <td>3.999905</td>\n",
       "      <td>-8.59</td>\n",
       "      <td>0.1400</td>\n",
       "      <td>328</td>\n",
       "      <td>30.60</td>\n",
       "      <td>...</td>\n",
       "      <td>16.0</td>\n",
       "      <td>1</td>\n",
       "      <td>7</td>\n",
       "      <td>50</td>\n",
       "      <td>7</td>\n",
       "      <td>6</td>\n",
       "      <td>4.0</td>\n",
       "      <td>0</td>\n",
       "      <td>1</td>\n",
       "      <td>1</td>\n",
       "    </tr>\n",
       "  </tbody>\n",
       "</table>\n",
       "<p>3 rows × 53 columns</p>\n",
       "</div>"
      ],
      "text/plain": [
       "   X_ActualPosition  X_ActualVelocity  X_ActualAcceleration  X_SetPosition  \\\n",
       "0             202.0               4.0                  4.00          202.0   \n",
       "1             202.0              -6.8               -346.00          202.0   \n",
       "2             200.0             -13.8                 -2.25          200.0   \n",
       "\n",
       "   X_SetVelocity  X_SetAcceleration  X_CurrentFeedback  X_DCBusVoltage  \\\n",
       "0            4.0           4.000000               0.18          0.0207   \n",
       "1           -9.6        -354.000000             -10.90          0.1860   \n",
       "2          -13.9           3.999905              -8.59          0.1400   \n",
       "\n",
       "   X_OutputCurrent  X_OutputVoltage            ...             \\\n",
       "0              329             2.77            ...              \n",
       "1              328            23.30            ...              \n",
       "2              328            30.60            ...              \n",
       "\n",
       "   S_SystemInertia  M_CURRENT_PROGRAM_NUMBER  M_sequence_number  \\\n",
       "0             16.0                         1                  0   \n",
       "1             16.0                         1                  4   \n",
       "2             16.0                         1                  7   \n",
       "\n",
       "   M_CURRENT_FEEDRATE  Machining_Process  feedrate  clamp_pressure  \\\n",
       "0                  50                  7         6             4.0   \n",
       "1                  50                  7         6             4.0   \n",
       "2                  50                  7         6             4.0   \n",
       "\n",
       "   tool_condition  machining_finalized  passed_visual_inspection  \n",
       "0               0                    1                         1  \n",
       "1               0                    1                         1  \n",
       "2               0                    1                         1  \n",
       "\n",
       "[3 rows x 53 columns]"
      ]
     },
     "execution_count": 9,
     "metadata": {},
     "output_type": "execute_result"
    }
   ],
   "source": [
    "feature_df = df.copy()\n",
    "feature_df['Machining_Process'] = LabelEncoder().fit_transform(feature_df['Machining_Process']).astype(np.int8)\n",
    "feature_df['tool_condition'] = LabelEncoder().fit_transform(feature_df['tool_condition']).astype(np.int8)\n",
    "feature_df['machining_finalized'] = LabelEncoder().fit_transform(feature_df['machining_finalized']).astype(np.int8)\n",
    "feature_df['passed_visual_inspection'] = LabelEncoder().fit_transform(feature_df['passed_visual_inspection']).astype(np.int8)\n",
    "feature_df.drop(['exp_num'], axis=1, inplace=True)\n",
    "feature_df.head(3)"
   ]
  },
  {
   "cell_type": "markdown",
   "metadata": {},
   "source": [
    "# 4. Modeling\n"
   ]
  },
  {
   "cell_type": "markdown",
   "metadata": {},
   "source": [
    "## Case1 : Tool Condition"
   ]
  },
  {
   "cell_type": "code",
   "execution_count": 48,
   "metadata": {},
   "outputs": [],
   "source": [
    "# 데이터 분리\n",
    "train_data = feature_df.drop(['tool_condition','machining_finalized','passed_visual_inspection'], axis=1) \n",
    "target_data = feature_df['tool_condition']\n",
    "\n",
    "X_train, X_valid, Y_train, Y_valid = train_test_split(train_data, target_data, test_size=0.2, random_state=0, stratify=target_data)"
   ]
  },
  {
   "cell_type": "code",
   "execution_count": 49,
   "metadata": {},
   "outputs": [
    {
     "name": "stdout",
     "output_type": "stream",
     "text": [
      "training set Accuracy:  0.9406739995319447\n",
      "test set Accuracy:  0.8731669266770671\n"
     ]
    }
   ],
   "source": [
    "# Defalut Parameter로 학습\n",
    "forest = RandomForestClassifier()\n",
    "forest.fit(X_train, Y_train)\n",
    "\n",
    "print(\"training set Accuracy: \",forest.score(X_train, Y_train))\n",
    "print(\"test set Accuracy: \",forest.score(X_valid, Y_valid))"
   ]
  },
  {
   "cell_type": "markdown",
   "metadata": {},
   "source": [
    "### RF Parameter 조절\n",
    "GridSearchCV를 통한 하이퍼 파라미터 튜닝"
   ]
  },
  {
   "cell_type": "code",
   "execution_count": 50,
   "metadata": {},
   "outputs": [
    {
     "name": "stdout",
     "output_type": "stream",
     "text": [
      "최적 하이퍼 파라미터:  {'max_depth': 8, 'min_samples_leaf': 8, 'min_samples_split': 20, 'n_estimators': 100}\n",
      "최고 예측 정확도: 0.9231\n"
     ]
    }
   ],
   "source": [
    "params = { 'n_estimators' : [10, 100],\n",
    "           'max_depth' : [6, 8, 10, 12],\n",
    "           'min_samples_leaf' : [8, 12, 18],\n",
    "           'min_samples_split' : [8, 16, 20]\n",
    "            }\n",
    "\n",
    "# RandomForestClassifier 객체 생성 후 GridSearchCV 수행\n",
    "rf_clf = RandomForestClassifier(random_state = 0, n_jobs = -1)\n",
    "grid_cv = GridSearchCV(rf_clf, param_grid = params, cv = 3, n_jobs = -1)\n",
    "grid_cv.fit(X_train, Y_train)\n",
    "\n",
    "print('최적 하이퍼 파라미터: ', grid_cv.best_params_)\n",
    "print('최고 예측 정확도: {:.4f}'.format(grid_cv.best_score_))"
   ]
  },
  {
   "cell_type": "code",
   "execution_count": 51,
   "metadata": {},
   "outputs": [
    {
     "name": "stdout",
     "output_type": "stream",
     "text": [
      "예측 정확도: 0.9250\n"
     ]
    }
   ],
   "source": [
    "#위의 결과로 나온 최적 하이퍼 파라미터로 다시 모델을 학습하여 테스트 세트 데이터에서 예측 성능을 측정\n",
    "rf_clf_tc = RandomForestClassifier(n_estimators = 100, \n",
    "                                max_depth = 8,\n",
    "                                min_samples_leaf = 8,\n",
    "                                min_samples_split = 20,\n",
    "                                random_state = 0,\n",
    "                                n_jobs = -1)\n",
    "rf_clf_tc.fit(X_train, Y_train)\n",
    "pred = rf_clf_tc.predict(X_valid)\n",
    "print('예측 정확도: {:.4f}'.format(accuracy_score(Y_valid, pred)))# 왼쪽 para와 오른쪽 para를 비교해서 얼마나 맞았는지 알려줌"
   ]
  },
  {
   "cell_type": "code",
   "execution_count": 52,
   "metadata": {
    "scrolled": true
   },
   "outputs": [
    {
     "name": "stdout",
     "output_type": "stream",
     "text": [
      "training set Accuracy:  0.927100397846946\n",
      "test set Accuracy:  0.9249609984399376\n"
     ]
    }
   ],
   "source": [
    "# 하이퍼 파라미터 튜닝 후 정확도\n",
    "print(\"training set Accuracy: \",rf_clf_tc.score(X_train, Y_train))\n",
    "print(\"test set Accuracy: \",rf_clf_tc.score(X_valid, Y_valid))"
   ]
  },
  {
   "cell_type": "markdown",
   "metadata": {},
   "source": [
    "## Case2 : Machining Finalized"
   ]
  },
  {
   "cell_type": "code",
   "execution_count": 53,
   "metadata": {},
   "outputs": [],
   "source": [
    "# 데이터 분리\n",
    "train_data = feature_df.drop(['tool_condition','machining_finalized','passed_visual_inspection'], axis=1) \n",
    "target_data = feature_df['machining_finalized']\n",
    "\n",
    "X_train, X_valid, Y_train, Y_valid = train_test_split(train_data, target_data, test_size=0.2, random_state=0, stratify=target_data)"
   ]
  },
  {
   "cell_type": "code",
   "execution_count": 54,
   "metadata": {},
   "outputs": [
    {
     "data": {
      "text/plain": [
       "RandomForestClassifier()"
      ]
     },
     "execution_count": 54,
     "metadata": {},
     "output_type": "execute_result"
    }
   ],
   "source": [
    "# Defalut Parameter로 학습\n",
    "forest = RandomForestClassifier()\n",
    "forest.fit(X_train, Y_train)"
   ]
  },
  {
   "cell_type": "code",
   "execution_count": 55,
   "metadata": {},
   "outputs": [
    {
     "name": "stdout",
     "output_type": "stream",
     "text": [
      "training set Accuracy:  1.0\n",
      "test set Accuracy:  0.9984399375975039\n"
     ]
    }
   ],
   "source": [
    "print(\"training set Accuracy: \",forest.score(X_train, Y_train))\n",
    "print(\"test set Accuracy: \",forest.score(X_valid, Y_valid))"
   ]
  },
  {
   "cell_type": "markdown",
   "metadata": {},
   "source": [
    "### RF Parameter 조절\n",
    "GridSearchCV를 통한 하이퍼 파라미터 튜닝"
   ]
  },
  {
   "cell_type": "code",
   "execution_count": 20,
   "metadata": {},
   "outputs": [
    {
     "name": "stdout",
     "output_type": "stream",
     "text": [
      "최적 하이퍼 파라미터:  {'max_depth': 12, 'min_samples_leaf': 8, 'min_samples_split': 8, 'n_estimators': 100}\n",
      "최고 예측 정확도: 0.9957\n"
     ]
    }
   ],
   "source": [
    "params = { 'n_estimators' : [10, 100],\n",
    "           'max_depth' : [6, 8, 10, 12],\n",
    "           'min_samples_leaf' : [8, 12, 18],\n",
    "           'min_samples_split' : [8, 16, 20]\n",
    "            }\n",
    "\n",
    "# RandomForestClassifier 객체 생성 후 GridSearchCV 수행\n",
    "rf_clf = RandomForestClassifier(random_state = 0, n_jobs = -1)\n",
    "grid_cv = GridSearchCV(rf_clf, param_grid = params, cv = 3, n_jobs = -1)\n",
    "grid_cv.fit(X_train, Y_train)\n",
    "\n",
    "print('최적 하이퍼 파라미터: ', grid_cv.best_params_)\n",
    "print('최고 예측 정확도: {:.4f}'.format(grid_cv.best_score_))"
   ]
  },
  {
   "cell_type": "code",
   "execution_count": 29,
   "metadata": {},
   "outputs": [
    {
     "name": "stdout",
     "output_type": "stream",
     "text": [
      "예측 정확도: 0.9991\n"
     ]
    }
   ],
   "source": [
    "#위의 결과로 나온 최적 하이퍼 파라미터로 다시 모델을 학습하여 테스트 세트 데이터에서 예측 성능을 측정\n",
    "rf_clf_mf = RandomForestClassifier(n_estimators = 100, \n",
    "                                max_depth = 12,\n",
    "                                min_samples_leaf = 8,\n",
    "                                min_samples_split = 8,\n",
    "                                random_state = 0,\n",
    "                                n_jobs = -1)\n",
    "rf_clf_mf.fit(X_train, Y_train)\n",
    "pred = rf_clf_mf.predict(X_valid)\n",
    "print('예측 정확도: {:.4f}'.format(accuracy_score(Y_valid, pred)))# 왼쪽 para와 오른쪽 para를 비교해서 얼마나 맞았는지 알려줌"
   ]
  },
  {
   "cell_type": "code",
   "execution_count": 22,
   "metadata": {},
   "outputs": [
    {
     "name": "stdout",
     "output_type": "stream",
     "text": [
      "training set Accuracy:  0.9888836882752164\n",
      "test set Accuracy:  0.9859594383775351\n"
     ]
    }
   ],
   "source": [
    "# 하이퍼 파라미터 튜닝 후 정확도\n",
    "print(\"training set Accuracy: \",rf_clf_mf.score(X_train, Y_train))\n",
    "print(\"test set Accuracy: \",rf_clf_mf.score(X_valid, Y_valid))"
   ]
  },
  {
   "cell_type": "markdown",
   "metadata": {},
   "source": [
    "## Case3 : Passed Visual Inspection"
   ]
  },
  {
   "cell_type": "code",
   "execution_count": 23,
   "metadata": {},
   "outputs": [],
   "source": [
    "# 데이터 분리\n",
    "train_data = feature_df.drop(['tool_condition','machining_finalized','passed_visual_inspection'], axis=1) \n",
    "target_data = feature_df['passed_visual_inspection']\n",
    "\n",
    "X_train, X_valid, Y_train, Y_valid = train_test_split(train_data, target_data, test_size=0.2, random_state=0, stratify=target_data)"
   ]
  },
  {
   "cell_type": "code",
   "execution_count": 24,
   "metadata": {},
   "outputs": [
    {
     "data": {
      "text/plain": [
       "RandomForestClassifier()"
      ]
     },
     "execution_count": 24,
     "metadata": {},
     "output_type": "execute_result"
    }
   ],
   "source": [
    "# Defalut Parameter로 학습\n",
    "forest = RandomForestClassifier()\n",
    "forest.fit(X_train, Y_train)"
   ]
  },
  {
   "cell_type": "code",
   "execution_count": 25,
   "metadata": {},
   "outputs": [
    {
     "name": "stdout",
     "output_type": "stream",
     "text": [
      "training set Accuracy:  1.0\n",
      "test set Accuracy:  0.9998439937597504\n"
     ]
    }
   ],
   "source": [
    "print(\"training set Accuracy: \",forest.score(X_train, Y_train))\n",
    "print(\"test set Accuracy: \",forest.score(X_valid, Y_valid))"
   ]
  },
  {
   "cell_type": "markdown",
   "metadata": {},
   "source": [
    "### RF Parameter 조절\n",
    "GridSearchCV를 통한 하이퍼 파라미터 튜닝"
   ]
  },
  {
   "cell_type": "code",
   "execution_count": 26,
   "metadata": {},
   "outputs": [
    {
     "name": "stdout",
     "output_type": "stream",
     "text": [
      "최적 하이퍼 파라미터:  {'max_depth': 12, 'min_samples_leaf': 8, 'min_samples_split': 20, 'n_estimators': 100}\n",
      "최고 예측 정확도: 0.9984\n"
     ]
    }
   ],
   "source": [
    "params = { 'n_estimators' : [10, 100],\n",
    "           'max_depth' : [6, 8, 10, 12],\n",
    "           'min_samples_leaf' : [8, 12, 18],\n",
    "           'min_samples_split' : [8, 16, 20]\n",
    "            }\n",
    "\n",
    "# RandomForestClassifier 객체 생성 후 GridSearchCV 수행\n",
    "rf_clf = RandomForestClassifier(random_state = 0, n_jobs = -1)\n",
    "grid_cv = GridSearchCV(rf_clf, param_grid = params, cv = 3, n_jobs = -1)\n",
    "grid_cv.fit(X_train, Y_train)\n",
    "\n",
    "print('최적 하이퍼 파라미터: ', grid_cv.best_params_)\n",
    "print('최고 예측 정확도: {:.4f}'.format(grid_cv.best_score_))"
   ]
  },
  {
   "cell_type": "code",
   "execution_count": 30,
   "metadata": {},
   "outputs": [
    {
     "name": "stdout",
     "output_type": "stream",
     "text": [
      "예측 정확도: 0.9991\n"
     ]
    }
   ],
   "source": [
    "#위의 결과로 나온 최적 하이퍼 파라미터로 다시 모델을 학습하여 테스트 세트 데이터에서 예측 성능을 측정\n",
    "rf_clf_pvi = RandomForestClassifier(n_estimators = 100, \n",
    "                                max_depth = 12,\n",
    "                                min_samples_leaf = 8,\n",
    "                                min_samples_split = 20,\n",
    "                                random_state = 0,\n",
    "                                n_jobs = -1)\n",
    "rf_clf_pvi.fit(X_train, Y_train)\n",
    "pred = rf_clf_pvi.predict(X_valid)\n",
    "print('예측 정확도: {:.4f}'.format(accuracy_score(Y_valid, pred)))# 왼쪽 para와 오른쪽 para를 비교해서 얼마나 맞았는지 알려줌"
   ]
  },
  {
   "cell_type": "code",
   "execution_count": 28,
   "metadata": {},
   "outputs": [
    {
     "name": "stdout",
     "output_type": "stream",
     "text": [
      "training set Accuracy:  0.9951244246821125\n",
      "test set Accuracy:  0.9954758190327613\n"
     ]
    }
   ],
   "source": [
    "# 하이퍼 파라미터 튜닝 후 정확도\n",
    "print(\"training set Accuracy: \",rf_clf_pvi.score(X_train, Y_train))\n",
    "print(\"test set Accuracy: \",rf_clf_pvi.score(X_valid, Y_valid))"
   ]
  }
 ],
 "metadata": {
  "kernelspec": {
   "display_name": "Python 3",
   "language": "python",
   "name": "python3"
  },
  "language_info": {
   "codemirror_mode": {
    "name": "ipython",
    "version": 3
   },
   "file_extension": ".py",
   "mimetype": "text/x-python",
   "name": "python",
   "nbconvert_exporter": "python",
   "pygments_lexer": "ipython3",
   "version": "3.7.11"
  }
 },
 "nbformat": 4,
 "nbformat_minor": 2
}
